{
  "nbformat": 4,
  "nbformat_minor": 0,
  "metadata": {
    "colab": {
      "provenance": [],
      "authorship_tag": "ABX9TyMYyFRJLKLuS54AQSn42UAh",
      "include_colab_link": true
    },
    "kernelspec": {
      "name": "python3",
      "display_name": "Python 3"
    },
    "language_info": {
      "name": "python"
    }
  },
  "cells": [
    {
      "cell_type": "markdown",
      "metadata": {
        "id": "view-in-github",
        "colab_type": "text"
      },
      "source": [
        "<a href=\"https://colab.research.google.com/github/NSMathpati/Assignment-Tasks/blob/main/Assignment_Data_Engineering.ipynb\" target=\"_parent\"><img src=\"https://colab.research.google.com/assets/colab-badge.svg\" alt=\"Open In Colab\"/></a>"
      ]
    },
    {
      "cell_type": "code",
      "execution_count": null,
      "metadata": {
        "colab": {
          "base_uri": "https://localhost:8080/"
        },
        "id": "3vWDvqrLUMbk",
        "outputId": "7aac9846-06e3-4f50-84f5-573ac95ea8fb"
      },
      "outputs": [
        {
          "output_type": "stream",
          "name": "stdout",
          "text": [
            "BMW\n"
          ]
        }
      ],
      "source": [
        "# Question Number 6 To print BMW from a list of lists and dictionaries\n",
        "\n",
        "#A function to find bmw in a list of lists and dictionaries\n",
        "def find_bmw(some_list):\n",
        "    #Check if the instance is a string\n",
        "    if isinstance(some_list, str):\n",
        "        if some_list == \"BMW\":\n",
        "            #If the instance is a string and the string is \"BMW\", print the string\n",
        "            print(some_list)\n",
        "    #Check if the instance is a dictionary\n",
        "    elif isinstance(some_list, dict):\n",
        "        # If the instance is a dictionary, loop through the values, the values becomes the new instance and is checked again for \"BMW\"\n",
        "        for value in some_list.values():\n",
        "            find_bmw(value)\n",
        "    #Check if the instance is a list\n",
        "    elif isinstance(some_list, list):\n",
        "        # If the instance is a list, loop through the items, the items becomes the new instance and is checked again for \"BMW\"\n",
        "        for item in some_list:\n",
        "            find_bmw(item)\n",
        "\n",
        "def main():\n",
        "    variable = [\"Bus\", \"car\", {\"Bus\": [\"car\", \"bus\", {\"car\": \"bus\", \"Car\": [\"bus\", \"car\", [\"BMW\"]]}]}, \"Bus\"]\n",
        "    find_bmw(variable)\n",
        "\n",
        "if __name__ == \"__main__\":\n",
        "    main()"
      ]
    },
    {
      "cell_type": "code",
      "source": [
        "# Question Number 5 To print all possible coordinates of i,j and k excluding the one's whose sum is equal to n\n",
        "\n",
        "def main():\n",
        "  x,y,z,n = map(int, input(\"Enter values for i,j,k and n: \").split())\n",
        "\n",
        "  # Using list comprehension to iterate over all possible values of i,j,k whose sum is not equal to n\n",
        "  coordinates = [[i,j,k] for i in range(x+1) for j in range(x+1) for k in range(z + 1) if i+j+k != n]\n",
        "  print(coordinates)\n",
        "\n",
        "if __name__ == \"__main__\":\n",
        "    main()"
      ],
      "metadata": {
        "colab": {
          "base_uri": "https://localhost:8080/"
        },
        "id": "-aXFsJZOWYgk",
        "outputId": "75e60845-c093-4999-8465-8f7a06f01906"
      },
      "execution_count": null,
      "outputs": [
        {
          "output_type": "stream",
          "name": "stdout",
          "text": [
            "Enter values for i,j,k and n: 2 2 2 2\n",
            "[[0, 0, 0], [0, 0, 1], [0, 1, 0], [0, 1, 2], [0, 2, 1], [0, 2, 2], [1, 0, 0], [1, 0, 2], [1, 1, 1], [1, 1, 2], [1, 2, 0], [1, 2, 1], [1, 2, 2], [2, 0, 1], [2, 0, 2], [2, 1, 0], [2, 1, 1], [2, 1, 2], [2, 2, 0], [2, 2, 1], [2, 2, 2]]\n"
          ]
        }
      ]
    },
    {
      "cell_type": "code",
      "source": [],
      "metadata": {
        "id": "es9ubwTgZcc7"
      },
      "execution_count": null,
      "outputs": []
    },
    {
      "cell_type": "code",
      "source": [
        "# Question Number 4 to find transpose of an image without using inbuilt functions\n",
        "# to find transpose of an image without using inbuilt function\n",
        "def transpose(img):\n",
        "    # finding number of rows and columns\n",
        "    rows = len(img)\n",
        "    columns = len(img[0])\n",
        "    # creating a transpose matrix with transposed dimensions\n",
        "    # loops through the rows and columns of original image and stores the values in transpose matrix in reverse order with zero\n",
        "    transpose = [[0 for _ in range(rows)] for _ in range(columns)]\n",
        "\n",
        "    # Now internchanging the rows and columns of original image into the transpose\n",
        "    for i in range(rows):\n",
        "        for j in range(columns):\n",
        "            transpose[j][i] = img[i][j]\n",
        "\n",
        "    return transpose\n",
        "\n",
        "def main():\n",
        "    img = [[1,2,3],[4,5,6],[7,8,9]]\n",
        "    print(\"Original Image: \",img)\n",
        "    print(\"Transpose of Image: \",transpose(img))\n",
        "\n",
        "if __name__ == \"__main__\":\n",
        "    main()"
      ],
      "metadata": {
        "colab": {
          "base_uri": "https://localhost:8080/"
        },
        "id": "xjju_hhYZh27",
        "outputId": "922bf5aa-8909-42fb-c14c-49092fd99a42"
      },
      "execution_count": null,
      "outputs": [
        {
          "output_type": "stream",
          "name": "stdout",
          "text": [
            "Original Image:  [[1, 2, 3], [4, 5, 6], [7, 8, 9]]\n",
            "Transpose of Image:  [[1, 4, 7], [2, 5, 8], [3, 6, 9]]\n"
          ]
        }
      ]
    },
    {
      "cell_type": "code",
      "source": [
        "#Question Number 3 to find occurances of the letters in the given string\n",
        "\n",
        "def occurances(string):\n",
        "    # Using Dict comprehension to loop through each unique letter in the string and add the count of that unique letter as the value in a dictionary\n",
        "    result_dict = {letter:string.count(letter) for letter in set(string) }\n",
        "    return result_dict\n",
        "\n",
        "\n",
        "def main():\n",
        "    string = \"fhdflshbfslkhfbslkfbhslfjhbsdvsJKBEFWEGWUYRTWGRUWOFWGEUIFBWDFWDBFHWJDVFHJKasdwtuknfiitngjt75378595hf75hr74h\"\n",
        "    result = occurances(string)\n",
        "    print(\"Character counts:\", result)\n",
        "\n",
        "\n",
        "if __name__ == \"__main__\":\n",
        "    main()"
      ],
      "metadata": {
        "colab": {
          "base_uri": "https://localhost:8080/"
        },
        "id": "ZlFIiFLJd-fp",
        "outputId": "ca75a631-1291-40d3-9b46-f239cf1873da"
      },
      "execution_count": null,
      "outputs": [
        {
          "output_type": "stream",
          "name": "stdout",
          "text": [
            "Character counts: {'U': 3, 's': 7, 'G': 3, 'Y': 1, 'I': 1, 'b': 4, '8': 1, '7': 4, 'n': 2, 'a': 1, 'B': 3, 'w': 1, 'J': 3, 'k': 3, 'f': 8, 'v': 1, 'W': 8, 'g': 1, 't': 3, 'j': 2, '5': 4, 'H': 2, 'u': 1, 'T': 1, '3': 1, 'O': 1, '9': 1, 'R': 2, 'K': 2, 'D': 3, 'E': 3, 'i': 2, 'F': 6, '4': 1, 'V': 1, 'r': 1, 'h': 8, 'd': 3, 'l': 4}\n"
          ]
        }
      ]
    },
    {
      "cell_type": "code",
      "source": [
        "#Question 2 Swapping two numbers without using a third variable\n",
        "\n",
        "def swap(a,b):\n",
        "    return b,a\n",
        "\n",
        "# Or another way this can be done is\n",
        "\"\"\" def swap(a,b):\n",
        "      a,b = b,a\n",
        "      return a,b \"\"\"\n",
        "\n",
        "def main():\n",
        "    a,b = input().split(\" \")\n",
        "    print(f\"Original A: {a} \\nOriginal B: {b}\")\n",
        "    a,b = swap(a,b)\n",
        "    print(f\"Swapped A: {a} \\nSwapped B: {b}\")\n",
        "\n",
        "if __name__ == \"__main__\":\n",
        "    main()\n"
      ],
      "metadata": {
        "colab": {
          "base_uri": "https://localhost:8080/"
        },
        "id": "s9vWfT9sljEp",
        "outputId": "87eac6bc-9a73-4350-9b38-c0dc8f858709"
      },
      "execution_count": null,
      "outputs": [
        {
          "output_type": "stream",
          "name": "stdout",
          "text": [
            "12 45\n",
            "Original A: 12 \n",
            "Original B: 45\n",
            "Swapped A: 45 \n",
            "Swapped B: 12\n"
          ]
        }
      ]
    },
    {
      "cell_type": "code",
      "source": [
        "#Write a program in Python to find the sum of digits of a number using recursion\n",
        "\n",
        "def sum_of_digits(n):\n",
        "    if n == 0:\n",
        "        return 0\n",
        "    else:\n",
        "        # Calling function recursively to get the sum of digits which is done by adding the last digit of the number to the sum of digits of the remaining number\n",
        "        return n%10 + sum_of_digits(int(n/10))\n",
        "\n",
        "def main():\n",
        "    n = int(input(\"Enter a number: \"))\n",
        "    print(\"Sum of digits of {} is {}\".format(n, sum_of_digits(n)))\n",
        "\n",
        "if __name__ == \"__main__\":\n",
        "    main()"
      ],
      "metadata": {
        "colab": {
          "base_uri": "https://localhost:8080/"
        },
        "id": "ZTF97_ShmxYz",
        "outputId": "8d5a499c-763f-4ba5-b6ab-28e3bdf4407b"
      },
      "execution_count": null,
      "outputs": [
        {
          "output_type": "stream",
          "name": "stdout",
          "text": [
            "Enter a number: 123456789\n",
            "Sum of digits of 123456789 is 45\n"
          ]
        }
      ]
    },
    {
      "cell_type": "code",
      "source": [
        "# Problem Statement 1, to read a json file and display related output from it\n",
        "\n",
        "import json\n",
        "\n",
        "# Read the JSON data from a file\n",
        "# store the data in a seperate file called results.json or if you have it  named something else change the name below\n",
        "with open('results.json') as file:\n",
        "    json_data = json.load(file)\n",
        "\n",
        "# Find the total number of videos\n",
        "num_videos = len(json_data)\n",
        "print(\"Total number of videos:\", num_videos)\n",
        "\n",
        "# Iterate over each video and counts for number persons, vehicles and frames.\n",
        "for video_id, video_data in json_data.items():\n",
        "    person_count = video_data[\"person_count\"]\n",
        "    vehicle_count = video_data[\"vehicle_count\"]\n",
        "    frames_data = video_data[\"faces_data\"]\n",
        "\n",
        "    # Get the number of frames for the video\n",
        "    num_frames = len(frames_data)\n",
        "    print(f\"Video {video_id}: Number of frames = {num_frames}\")\n",
        "\n",
        "    # Find the missing frames (if any)\n",
        "    frame_ids = [frame_id for frame_id in range(1, num_frames + 1)]\n",
        "    missing_frames = set(frame_ids) - set(frames_data.keys())\n",
        "    if missing_frames:\n",
        "        print(f\"Video {video_id}: Missing frames = {missing_frames}\")\n",
        "\n",
        "    # Find the maximum number of vehicles and people in each video\n",
        "    max_vehicles = max(vehicle_count for frame_data in frames_data.values())\n",
        "    max_people = max(person_count for frame_data in frames_data.values())\n",
        "    print(f\"Video {video_id}: Maximum vehicles = {max_vehicles}\")\n",
        "    print(f\"Video {video_id}: Maximum people = {max_people}\")\n",
        "\n",
        "    # Find the number of categories of people and list the categories\n",
        "    categories = set(frame_data[\"type\"] for frame_data in frames_data.values())\n",
        "    num_categories = len(categories)\n",
        "    print(f\"Video {video_id}: Number of categories of people = {num_categories}\")\n",
        "    print(f\"Video {video_id}: Categories of people = {categories}\")\n",
        "\n",
        "    # Find the people belonging to each category\n",
        "    people_by_category = {category: [] for category in categories}\n",
        "    for person, frame_data in frames_data.items():\n",
        "        category = frame_data[\"type\"]\n",
        "        people_by_category[category].append(person)\n",
        "    print(f\"Video {video_id}: People by category = {people_by_category}\")\n",
        "\n",
        "    print(\"-\" * 50)\n"
      ],
      "metadata": {
        "colab": {
          "base_uri": "https://localhost:8080/",
          "height": 261
        },
        "id": "4SSn1JnOof-g",
        "outputId": "569681fe-7b5f-4cfb-a037-8437254b06ca"
      },
      "execution_count": null,
      "outputs": [
        {
          "output_type": "stream",
          "name": "stdout",
          "text": [
            "Total number of videos: 38939\n"
          ]
        },
        {
          "output_type": "error",
          "ename": "AttributeError",
          "evalue": "ignored",
          "traceback": [
            "\u001b[0;31m---------------------------------------------------------------------------\u001b[0m",
            "\u001b[0;31mAttributeError\u001b[0m                            Traceback (most recent call last)",
            "\u001b[0;32m<ipython-input-20-f1ff3fea70d2>\u001b[0m in \u001b[0;36m<cell line: 20>\u001b[0;34m()\u001b[0m\n\u001b[1;32m     18\u001b[0m \u001b[0;34m\u001b[0m\u001b[0m\n\u001b[1;32m     19\u001b[0m \u001b[0;31m# Iterate over each video and counts for number persons, vehicles and frames.\u001b[0m\u001b[0;34m\u001b[0m\u001b[0;34m\u001b[0m\u001b[0m\n\u001b[0;32m---> 20\u001b[0;31m \u001b[0;32mfor\u001b[0m \u001b[0mvideo_id\u001b[0m\u001b[0;34m,\u001b[0m \u001b[0mvideo_data\u001b[0m \u001b[0;32min\u001b[0m \u001b[0mjson_data\u001b[0m\u001b[0;34m.\u001b[0m\u001b[0mitems\u001b[0m\u001b[0;34m(\u001b[0m\u001b[0;34m)\u001b[0m\u001b[0;34m:\u001b[0m\u001b[0;34m\u001b[0m\u001b[0;34m\u001b[0m\u001b[0m\n\u001b[0m\u001b[1;32m     21\u001b[0m     \u001b[0mperson_count\u001b[0m \u001b[0;34m=\u001b[0m \u001b[0mvideo_data\u001b[0m\u001b[0;34m[\u001b[0m\u001b[0;34m\"person_count\"\u001b[0m\u001b[0;34m]\u001b[0m\u001b[0;34m\u001b[0m\u001b[0;34m\u001b[0m\u001b[0m\n\u001b[1;32m     22\u001b[0m     \u001b[0mvehicle_count\u001b[0m \u001b[0;34m=\u001b[0m \u001b[0mvideo_data\u001b[0m\u001b[0;34m[\u001b[0m\u001b[0;34m\"vehicle_count\"\u001b[0m\u001b[0;34m]\u001b[0m\u001b[0;34m\u001b[0m\u001b[0;34m\u001b[0m\u001b[0m\n",
            "\u001b[0;31mAttributeError\u001b[0m: 'str' object has no attribute 'items'"
          ]
        }
      ]
    },
    {
      "cell_type": "code",
      "source": [
        "# Problem Statement 2, to load the json data from an external api and calcualte number of users, tasks etc\n",
        "\n",
        "import requests\n",
        "import json\n",
        "\n",
        "def request(url):\n",
        "    try:\n",
        "        response = requests.get(url)\n",
        "        # calcuate the number of users\n",
        "        users = len(set([x['userId'] for x in response.json()]))\n",
        "        # calcuate the number of tasks for each user\n",
        "        tasks = {}\n",
        "        for x in response.json():\n",
        "            if x['userId'] in tasks:\n",
        "                tasks[x['userId']] += 1\n",
        "            else:\n",
        "                tasks[x['userId']] = 1\n",
        "\n",
        "        # calcuate the number of completed tasks for each user\n",
        "        completed_tasks = {}\n",
        "        for x in response.json():\n",
        "            if x['userId'] in completed_tasks and x['completed']:\n",
        "                completed_tasks[x['userId']] += 1\n",
        "            elif x['userId'] not in completed_tasks and x['completed']:\n",
        "                completed_tasks[x['userId']] = 1\n",
        "\n",
        "        # calcuate the number of uncompleted tasks for each user\n",
        "        uncompleted_tasks = {}\n",
        "        for x in response.json():\n",
        "            if x['userId'] in uncompleted_tasks and not x['completed']:\n",
        "                uncompleted_tasks[x['userId']] += 1\n",
        "            elif x['userId'] not in uncompleted_tasks and not x['completed']:\n",
        "                uncompleted_tasks[x['userId']] = 1\n",
        "\n",
        "        return (users, tasks, completed_tasks, uncompleted_tasks)\n",
        "    except requests.exceptions.ConnectionError:\n",
        "        pass\n",
        "\n",
        "def main():\n",
        "    url = \"https://jsonplaceholder.typicode.com/todos\"\n",
        "    users, tasks, completed_tasks, uncompleted_tasks = request(url)\n",
        "    print(f\"Total number of users: {users}\")\n",
        "    print(f\"Total number of tasks: {tasks}\")\n",
        "    print(f\"Number of completed tasks: {completed_tasks}\")\n",
        "    print(f\"Number of uncompleted tasks: {uncompleted_tasks}\")\n",
        "\n",
        "    ranked_users = sorted(completed_tasks.items(), key=lambda x: x[1], reverse=True)\n",
        "\n",
        "    # Print the ranked users\n",
        "    print(\"Ranking of Users based on Completed Tasks:\")\n",
        "    for rank, (user, completed) in enumerate(ranked_users, start=1):\n",
        "        print(f\"Rank {rank}: User {user} - Completed Tasks: {completed}\")\n",
        "\n",
        "\n",
        "if __name__ == \"__main__\":\n",
        "    main()"
      ],
      "metadata": {
        "colab": {
          "base_uri": "https://localhost:8080/"
        },
        "id": "cAV5PO5dqed6",
        "outputId": "18476166-e575-4e53-af90-d6b2066d80f5"
      },
      "execution_count": null,
      "outputs": [
        {
          "output_type": "stream",
          "name": "stdout",
          "text": [
            "Total number of users: 10\n",
            "Total number of tasks: {1: 20, 2: 20, 3: 20, 4: 20, 5: 20, 6: 20, 7: 20, 8: 20, 9: 20, 10: 20}\n",
            "Number of completed tasks: {1: 11, 2: 8, 3: 7, 4: 6, 5: 12, 6: 6, 7: 9, 8: 11, 9: 8, 10: 12}\n",
            "Number of uncompleted tasks: {1: 9, 2: 12, 3: 13, 4: 14, 5: 8, 6: 14, 7: 11, 8: 9, 9: 12, 10: 8}\n",
            "Ranking of Users based on Completed Tasks:\n",
            "Rank 1: User 5 - Completed Tasks: 12\n",
            "Rank 2: User 10 - Completed Tasks: 12\n",
            "Rank 3: User 1 - Completed Tasks: 11\n",
            "Rank 4: User 8 - Completed Tasks: 11\n",
            "Rank 5: User 7 - Completed Tasks: 9\n",
            "Rank 6: User 2 - Completed Tasks: 8\n",
            "Rank 7: User 9 - Completed Tasks: 8\n",
            "Rank 8: User 3 - Completed Tasks: 7\n",
            "Rank 9: User 4 - Completed Tasks: 6\n",
            "Rank 10: User 6 - Completed Tasks: 6\n"
          ]
        }
      ]
    },
    {
      "cell_type": "code",
      "source": [],
      "metadata": {
        "id": "5zBWUninw83h"
      },
      "execution_count": null,
      "outputs": []
    },
    {
      "cell_type": "code",
      "source": [
        "# Problem Statement 3. to connect video camera of phone to pc and calculate timeframe, fps, latency\n",
        "\n",
        "#Have no idea how to perform the connection, but upon research found out that we can connect it to an external video stream url\n",
        "\n",
        "# so connect phone camera to a video stream url and use cv2 library to connect pc to that video stream indirectly connecting to the phone camera.\n",
        "import cv2\n",
        "import time\n",
        "\n",
        "\n",
        "url = \"camera-feed_url\"   # replace the text inside with the actual url of the camera feed\n",
        "\n",
        "reconnection_attempts = 0\n",
        "offline_duration = 0\n",
        "reconnect_interval = 7\n",
        "\n",
        "while True:\n",
        "  # connect to camera feed\n",
        "  connect = cv2.VideoCapture(url)\n",
        "  # checking if connection is opened\n",
        "  if connect.isOpened():\n",
        "    print(\"Camera Connected\")\n",
        "    while True:\n",
        "      ret, frame = connect.read()\n",
        "      if ret:\n",
        "        # Process and display the frames as needed\n",
        "        # Reset the offline duration and reconnection attempts\n",
        "        offline_duration = 0\n",
        "        reconnection_attempts = 0\n",
        "      else:\n",
        "        # Handle camera disconnection or errors\n",
        "        print(\"Camera stream disconnected\")\n",
        "        break\n",
        "  else:\n",
        "    #Camera connection failed attempting to reconnect\n",
        "    reconnection_attempts += 1\n",
        "    print(f\"Reconnecting Attempt {reconnection_attempts}....!!\")\n",
        "\n",
        "    # Time to wait before attempting a reconnection\n",
        "    time.sleep(reconnect_interval)\n",
        "\n",
        "    # As when not connected, the wait time counts as time offline\n",
        "    offline_duration += reconnect_interval\n",
        "\n",
        "  if reconnection_attempts > 7:\n",
        "    print(\"Too many Reconnecting attempts :( , Try again later... !!\")\n",
        "    break\n",
        "\n",
        "# offline duration\n",
        "print(f\"Time offline {offline_duration}\")\n",
        "\n",
        "# To release the resources, because we no longer need them\n",
        "connect.release()\n"
      ],
      "metadata": {
        "id": "v9G6J28RzSfP"
      },
      "execution_count": null,
      "outputs": []
    },
    {
      "cell_type": "code",
      "source": [
        "# Continuation of Problem Statement 3, event based program that triggers an alert\n",
        "import cv2\n",
        "from pydispatch import dispatcher\n",
        "\n",
        "# Define an event for camera offline\n",
        "event = \"camera_offline_event\"\n",
        "\n",
        "def camera_offline_handler():\n",
        "    print(\"Camera offline event triggered. Send alert message.\")\n",
        "\n",
        "# Connect the camera offline event to its handler\n",
        "dispatcher.connect(camera_offline_handler, signal=event, sender=dispatcher.Any)\n",
        "\n",
        "# Camera stream URL\n",
        "url = 'camera-feed-url'  # Replace with the text inside with the actual camera stream URL\n",
        "\n",
        "while True:\n",
        "    connect = cv2.VideoCapture(url)\n",
        "\n",
        "    if connect.isOpened():\n",
        "        print(\"Camera connected\")\n",
        "        while True:\n",
        "            ret, frame = connect.read()\n",
        "\n",
        "            if ret:\n",
        "                # Process and display the frames as needed\n",
        "                pass\n",
        "            else:\n",
        "                # Handle camera disconnection or errors\n",
        "                print(\"Camera stream disconnected\")\n",
        "                dispatcher.send(signal=event)\n",
        "                break\n",
        "\n",
        "# Release the resources\n",
        "connect.release()"
      ],
      "metadata": {
        "id": "08Nc-5gs2tAB"
      },
      "execution_count": null,
      "outputs": []
    }
  ]
}